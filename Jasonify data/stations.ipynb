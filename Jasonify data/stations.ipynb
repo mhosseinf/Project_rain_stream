{
 "cells": [
  {
   "cell_type": "code",
   "execution_count": 1,
   "id": "bb545221-0e5a-4d6a-8011-89629e226aa6",
   "metadata": {},
   "outputs": [],
   "source": [
    "from pathlib import Path\n",
    "import pandas as pd\n",
    "import pprint\n",
    "import os"
   ]
  },
  {
   "cell_type": "code",
   "execution_count": 2,
   "id": "82bb7b20-a69b-4de7-8f37-6273dd2b196f",
   "metadata": {},
   "outputs": [
    {
     "data": {
      "text/html": [
       "<div>\n",
       "<style scoped>\n",
       "    .dataframe tbody tr th:only-of-type {\n",
       "        vertical-align: middle;\n",
       "    }\n",
       "\n",
       "    .dataframe tbody tr th {\n",
       "        vertical-align: top;\n",
       "    }\n",
       "\n",
       "    .dataframe thead th {\n",
       "        text-align: right;\n",
       "    }\n",
       "</style>\n",
       "<table border=\"1\" class=\"dataframe\">\n",
       "  <thead>\n",
       "    <tr style=\"text-align: right;\">\n",
       "      <th></th>\n",
       "      <th>Site No.</th>\n",
       "      <th>Station Type</th>\n",
       "      <th>Address</th>\n",
       "      <th>Lat</th>\n",
       "      <th>Long</th>\n",
       "      <th>Elev(m)</th>\n",
       "      <th>Team</th>\n",
       "    </tr>\n",
       "  </thead>\n",
       "  <tbody>\n",
       "    <tr>\n",
       "      <th>0</th>\n",
       "      <td>509398</td>\n",
       "      <td>Rain_gauge</td>\n",
       "      <td>BALLAJURA DRAIN AT BALLAJURA</td>\n",
       "      <td>-31.824225</td>\n",
       "      <td>115.872030</td>\n",
       "      <td>39</td>\n",
       "      <td>Catchment &amp; Environments</td>\n",
       "    </tr>\n",
       "    <tr>\n",
       "      <th>1</th>\n",
       "      <td>509417</td>\n",
       "      <td>Rain_gauge</td>\n",
       "      <td>WOODBRIDGE CREEK AT BROWN PARK (P1)</td>\n",
       "      <td>-31.891400</td>\n",
       "      <td>116.052425</td>\n",
       "      <td>48</td>\n",
       "      <td>Catchment &amp; Environments</td>\n",
       "    </tr>\n",
       "    <tr>\n",
       "      <th>2</th>\n",
       "      <td>509452</td>\n",
       "      <td>Rain_gauge</td>\n",
       "      <td>LESMURDIE BROOK  AT ORANGEDALE ROAD (P9)</td>\n",
       "      <td>-32.005126</td>\n",
       "      <td>116.060256</td>\n",
       "      <td>267</td>\n",
       "      <td>Catchment &amp; Environments</td>\n",
       "    </tr>\n",
       "    <tr>\n",
       "      <th>3</th>\n",
       "      <td>509460</td>\n",
       "      <td>Rain_gauge</td>\n",
       "      <td>POISON GULLY AT MAIDA VALE (P6)</td>\n",
       "      <td>-31.947558</td>\n",
       "      <td>116.060256</td>\n",
       "      <td>267</td>\n",
       "      <td>Catchment &amp; Environments</td>\n",
       "    </tr>\n",
       "    <tr>\n",
       "      <th>4</th>\n",
       "      <td>509573</td>\n",
       "      <td>Rain_gauge</td>\n",
       "      <td>LIGHT ST B.D. AT MORLEY</td>\n",
       "      <td>-31.889167</td>\n",
       "      <td>115.888889</td>\n",
       "      <td>24</td>\n",
       "      <td>Catchment &amp; Environments</td>\n",
       "    </tr>\n",
       "  </tbody>\n",
       "</table>\n",
       "</div>"
      ],
      "text/plain": [
       "  Site No. Station Type                                    Address        Lat  \\\n",
       "0   509398   Rain_gauge               BALLAJURA DRAIN AT BALLAJURA -31.824225   \n",
       "1   509417   Rain_gauge        WOODBRIDGE CREEK AT BROWN PARK (P1) -31.891400   \n",
       "2   509452   Rain_gauge  LESMURDIE BROOK  AT ORANGEDALE ROAD (P9)  -32.005126   \n",
       "3   509460   Rain_gauge            POISON GULLY AT MAIDA VALE (P6) -31.947558   \n",
       "4   509573   Rain_gauge                   LIGHT ST B.D. AT MORLEY  -31.889167   \n",
       "\n",
       "         Long  Elev(m)                      Team  \n",
       "0  115.872030       39  Catchment & Environments  \n",
       "1  116.052425       48  Catchment & Environments  \n",
       "2  116.060256      267  Catchment & Environments  \n",
       "3  116.060256      267  Catchment & Environments  \n",
       "4  115.888889       24  Catchment & Environments  "
      ]
     },
     "execution_count": 2,
     "metadata": {},
     "output_type": "execute_result"
    }
   ],
   "source": [
    "csv_stations = Path(\"../Resources/stationslist.csv\")\n",
    "stations_df = pd.read_csv(csv_stations,low_memory=False)\n",
    "stations_df.head()"
   ]
  },
  {
   "cell_type": "code",
   "execution_count": 6,
   "id": "fa934091-75eb-4d7b-8f23-b8998be362dd",
   "metadata": {},
   "outputs": [
    {
     "ename": "AttributeError",
     "evalue": "'str' object has no attribute 'value'",
     "output_type": "error",
     "traceback": [
      "\u001b[1;31m---------------------------------------------------------------------------\u001b[0m",
      "\u001b[1;31mAttributeError\u001b[0m                            Traceback (most recent call last)",
      "Cell \u001b[1;32mIn[6], line 16\u001b[0m\n\u001b[0;32m     12\u001b[0m rain_station_df \u001b[38;5;241m=\u001b[39m pd\u001b[38;5;241m.\u001b[39mread_csv(csv_rain_station, low_memory\u001b[38;5;241m=\u001b[39m\u001b[38;5;28;01mFalse\u001b[39;00m)\n\u001b[0;32m     13\u001b[0m r_station_df \u001b[38;5;241m=\u001b[39m rain_station_df\u001b[38;5;241m.\u001b[39mtranspose()\n\u001b[0;32m     15\u001b[0m station_dict \u001b[38;5;241m=\u001b[39m {\n\u001b[1;32m---> 16\u001b[0m     \u001b[38;5;124m\"\u001b[39m\u001b[38;5;124mSitno\u001b[39m\u001b[38;5;124m\"\u001b[39m: row[\u001b[38;5;124m'\u001b[39m\u001b[38;5;124mSite No.\u001b[39m\u001b[38;5;124m'\u001b[39m]\u001b[38;5;241m.\u001b[39mvalue[\u001b[38;5;241m0\u001b[39m],\n\u001b[0;32m     17\u001b[0m     \u001b[38;5;124m\"\u001b[39m\u001b[38;5;124mStationId\u001b[39m\u001b[38;5;124m\"\u001b[39m: row[\u001b[38;5;124m'\u001b[39m\u001b[38;5;124mStation Type\u001b[39m\u001b[38;5;124m'\u001b[39m],\n\u001b[0;32m     18\u001b[0m     \u001b[38;5;124m\"\u001b[39m\u001b[38;5;124mlat\u001b[39m\u001b[38;5;124m\"\u001b[39m: row[\u001b[38;5;124m'\u001b[39m\u001b[38;5;124mLat\u001b[39m\u001b[38;5;124m'\u001b[39m],\n\u001b[0;32m     19\u001b[0m     \u001b[38;5;124m\"\u001b[39m\u001b[38;5;124mlon\u001b[39m\u001b[38;5;124m\"\u001b[39m: row[\u001b[38;5;124m'\u001b[39m\u001b[38;5;124mLong\u001b[39m\u001b[38;5;124m'\u001b[39m],\n\u001b[0;32m     20\u001b[0m     \u001b[38;5;124m\"\u001b[39m\u001b[38;5;124mElev\u001b[39m\u001b[38;5;124m\"\u001b[39m: row[\u001b[38;5;124m'\u001b[39m\u001b[38;5;124mElev(m)\u001b[39m\u001b[38;5;124m'\u001b[39m],\n\u001b[0;32m     21\u001b[0m     \u001b[38;5;124m\"\u001b[39m\u001b[38;5;124maddress\u001b[39m\u001b[38;5;124m\"\u001b[39m: row[\u001b[38;5;124m'\u001b[39m\u001b[38;5;124mAddress\u001b[39m\u001b[38;5;124m'\u001b[39m],\n\u001b[0;32m     22\u001b[0m     \u001b[38;5;124m\"\u001b[39m\u001b[38;5;124mteam\u001b[39m\u001b[38;5;124m\"\u001b[39m: row[\u001b[38;5;124m'\u001b[39m\u001b[38;5;124mTeam\u001b[39m\u001b[38;5;124m'\u001b[39m],\n\u001b[0;32m     23\u001b[0m     \u001b[38;5;124m\"\u001b[39m\u001b[38;5;124mDate\u001b[39m\u001b[38;5;124m\"\u001b[39m: r_station_df\u001b[38;5;241m.\u001b[39miloc[\u001b[38;5;241m0\u001b[39m]\u001b[38;5;241m.\u001b[39mtolist(),\n\u001b[0;32m     24\u001b[0m     \u001b[38;5;124m\"\u001b[39m\u001b[38;5;124mamount\u001b[39m\u001b[38;5;124m\"\u001b[39m: r_station_df\u001b[38;5;241m.\u001b[39miloc[\u001b[38;5;241m1\u001b[39m]\u001b[38;5;241m.\u001b[39mtolist(),\n\u001b[0;32m     25\u001b[0m     \u001b[38;5;124m\"\u001b[39m\u001b[38;5;124mQuality\u001b[39m\u001b[38;5;124m\"\u001b[39m: r_station_df\u001b[38;5;241m.\u001b[39miloc[\u001b[38;5;241m2\u001b[39m]\u001b[38;5;241m.\u001b[39mtolist()\n\u001b[0;32m     26\u001b[0m }\n\u001b[0;32m     28\u001b[0m \u001b[38;5;66;03m# Update the all_stations dictionary with the station_dict\u001b[39;00m\n\u001b[0;32m     29\u001b[0m all_stations[station_id] \u001b[38;5;241m=\u001b[39m station_dict\n",
      "\u001b[1;31mAttributeError\u001b[0m: 'str' object has no attribute 'value'"
     ]
    }
   ],
   "source": [
    "# Initialize a dictionary to store dictionaries for each station\n",
    "all_stations = {}\n",
    "\n",
    "# Iterate through each row\n",
    "for index, row in stations_df.iterrows():\n",
    "    \n",
    "    # Use the station ID as the key in the dictionary\n",
    "    station_id = str(row['Site No.'])\n",
    "    \n",
    "     # Read the CSV file for the current rain station into a DataFrame\n",
    "    csv_rain_station = Path(f\"../Resources/{station_id}.csv\")\n",
    "    rain_station_df = pd.read_csv(csv_rain_station, low_memory=False)\n",
    "    r_station_df = rain_station_df.transpose()\n",
    "    \n",
    "    station_dict = {\n",
    "        \"Sitno\": row['Site No.'],\n",
    "        \"StationId\": row['Station Type'],\n",
    "        \"lat\": row['Lat'],\n",
    "        \"lon\": row['Long'],\n",
    "        \"Elev\": row['Elev(m)'],\n",
    "        \"address\": row['Address'],\n",
    "        \"team\": row['Team'],\n",
    "        \"Date\": r_station_df.iloc[0].tolist(),\n",
    "        \"amount\": r_station_df.iloc[1].tolist(),\n",
    "        \"Quality\": r_station_df.iloc[2].tolist()\n",
    "    }\n",
    "    \n",
    "    # Update the all_stations dictionary with the station_dict\n",
    "    all_stations[station_id] = station_dict\n",
    "all_stations"
   ]
  },
  {
   "cell_type": "code",
   "execution_count": 21,
   "id": "3832139b-a5be-491d-9ef2-4d99dc90e0b8",
   "metadata": {},
   "outputs": [],
   "source": [
    "# Convert the dictionary to a DataFrame\n",
    "result_df = pd.DataFrame.from_dict(all_stations, orient='index')\n",
    "result_df\n",
    "# Save the DataFrame to a JSON file\n",
    "result_df.to_json('../Map/static/data/all_stations.json', orient='index', indent=2)\n"
   ]
  },
  {
   "cell_type": "code",
   "execution_count": null,
   "id": "e171da8f-dbed-48b9-bcfd-d8eaea5b6d66",
   "metadata": {},
   "outputs": [],
   "source": []
  }
 ],
 "metadata": {
  "kernelspec": {
   "display_name": "Python 3 (ipykernel)",
   "language": "python",
   "name": "python3"
  },
  "language_info": {
   "codemirror_mode": {
    "name": "ipython",
    "version": 3
   },
   "file_extension": ".py",
   "mimetype": "text/x-python",
   "name": "python",
   "nbconvert_exporter": "python",
   "pygments_lexer": "ipython3",
   "version": "3.11.3"
  }
 },
 "nbformat": 4,
 "nbformat_minor": 5
}
