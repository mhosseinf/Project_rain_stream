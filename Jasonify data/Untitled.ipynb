{
 "cells": [
  {
   "cell_type": "code",
   "execution_count": 2,
   "id": "bb545221-0e5a-4d6a-8011-89629e226aa6",
   "metadata": {},
   "outputs": [],
   "source": [
    "from pathlib import Path\n",
    "import pandas as pd\n",
    "import pprint"
   ]
  },
  {
   "cell_type": "code",
   "execution_count": 4,
   "id": "dcf94018-ff68-4d7d-9c7b-b576d3a8709d",
   "metadata": {},
   "outputs": [],
   "source": [
    "csv_509704 = Path(\"Resources/509704.csv\")\n",
    "rain_509704_df = pd.read_csv(csv_509704,low_memory=False)\n",
    "r509704_df = rain_509704_df.transpose()\n",
    "# r509704_df"
   ]
  },
  {
   "cell_type": "code",
   "execution_count": 5,
   "id": "82bb7b20-a69b-4de7-8f37-6273dd2b196f",
   "metadata": {},
   "outputs": [],
   "source": [
    "csv_stations = Path(\"Resources/stations.csv\")\n",
    "stations_df = pd.read_csv(csv_stations,low_memory=False)\n",
    "# stations_df.head()"
   ]
  },
  {
   "cell_type": "code",
   "execution_count": 6,
   "id": "d1719a44-47df-476e-95f7-5e4a2a8e9611",
   "metadata": {},
   "outputs": [],
   "source": [
    "filtered_row = stations_df[stations_df['Site No.'].str.strip() == '509704']\n",
    "# filtered_row"
   ]
  },
  {
   "cell_type": "code",
   "execution_count": 9,
   "id": "fa934091-75eb-4d7b-8f23-b8998be362dd",
   "metadata": {},
   "outputs": [],
   "source": [
    "# Create a dictionary with the desired structure\n",
    "data_dict = {\n",
    "    \"509704\": {\n",
    "        \"Date\": r509704_df.iloc[0].tolist(),\n",
    "        \"Rain\": r509704_df.iloc[1].tolist(),\n",
    "        \"Quality\": r509704_df.iloc[2].tolist(),\n",
    "        \"lat\": filtered_row['Lat'].values[0],\n",
    "        \"lon\": filtered_row['Long'].values[0],\n",
    "        \"address\": filtered_row['Address'].values[0]\n",
    "    }\n",
    "}\n",
    "# data_dict"
   ]
  },
  {
   "cell_type": "code",
   "execution_count": 10,
   "id": "3832139b-a5be-491d-9ef2-4d99dc90e0b8",
   "metadata": {},
   "outputs": [],
   "source": [
    "# Convert the dictionary to a DataFrame\n",
    "result_df = pd.DataFrame.from_dict(data_dict, orient='index')\n",
    "\n",
    "# Save the DataFrame to a JSON file\n",
    "result_df.to_json('Output/509704.json', orient='index', indent=2)\n"
   ]
  },
  {
   "cell_type": "code",
   "execution_count": null,
   "id": "e171da8f-dbed-48b9-bcfd-d8eaea5b6d66",
   "metadata": {},
   "outputs": [],
   "source": []
  }
 ],
 "metadata": {
  "kernelspec": {
   "display_name": "Python 3 (ipykernel)",
   "language": "python",
   "name": "python3"
  },
  "language_info": {
   "codemirror_mode": {
    "name": "ipython",
    "version": 3
   },
   "file_extension": ".py",
   "mimetype": "text/x-python",
   "name": "python",
   "nbconvert_exporter": "python",
   "pygments_lexer": "ipython3",
   "version": "3.11.3"
  }
 },
 "nbformat": 4,
 "nbformat_minor": 5
}
