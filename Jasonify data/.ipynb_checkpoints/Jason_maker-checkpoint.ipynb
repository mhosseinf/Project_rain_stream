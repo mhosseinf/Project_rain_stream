{
 "cells": [
  {
   "cell_type": "code",
   "execution_count": null,
   "id": "bb295dc3-d348-4599-9f83-74de8aedcaa2",
   "metadata": {},
   "outputs": [],
   "source": [
    "import pandas as pd\n",
    "import path from "
   ]
  },
  {
   "cell_type": "code",
   "execution_count": null,
   "id": "caff02f6-6b27-4e5b-b818-a4a9db42d3e1",
   "metadata": {},
   "outputs": [],
   "source": [
    "# Specify the file path\n",
    "file_path = '/file.csv'\n",
    "\n",
    "# Use pandas to read the CSV file\n",
    "data = pd.read_csv(file_path)\n"
   ]
  }
 ],
 "metadata": {
  "kernelspec": {
   "display_name": "Python 3 (ipykernel)",
   "language": "python",
   "name": "python3"
  },
  "language_info": {
   "codemirror_mode": {
    "name": "ipython",
    "version": 3
   },
   "file_extension": ".py",
   "mimetype": "text/x-python",
   "name": "python",
   "nbconvert_exporter": "python",
   "pygments_lexer": "ipython3",
   "version": "3.11.3"
  }
 },
 "nbformat": 4,
 "nbformat_minor": 5
}
